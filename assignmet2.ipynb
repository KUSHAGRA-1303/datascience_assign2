{
 "cells": [
  {
   "cell_type": "markdown",
   "id": "76b022d5-6921-4730-b6cb-ac116f5a40ab",
   "metadata": {},
   "source": [
    "1:-we can comment in python by '#' or by three single quotes.\n",
    "there are two types of comment in the python :\n",
    "    a)single line comment:-we made comment through '#'\n",
    "    b)multi line comment:- we made multi-line comment through three single quotes\n"
   ]
  },
  {
   "cell_type": "markdown",
   "id": "974c7ba4-3a68-46bb-8e06-ade4d27370b8",
   "metadata": {},
   "source": [
    "2:- variable are the container that is used to store address of data .\n",
    "Python is very smart language and we donot need to declare the variable, we just need to assign values to the to the variable "
   ]
  },
  {
   "cell_type": "markdown",
   "id": "aac7bc86-f9d6-48aa-8838-c9e97ab35e31",
   "metadata": {},
   "source": [
    "3:-data types convert by two ways:\n",
    "Implicit Type Conversion:-In Implicit type conversion of data types in Python, the Python interpreter automatically converts one data type to another without any user involvement.\n",
    "EX:-x = 10\n",
    "\n",
    "print(\"x is of type:\",type(x))\n",
    "\n",
    "y = 10.6\n",
    "print(\"y is of type:\",type(y))\n",
    "\n",
    "z = x + y\n",
    "\n",
    "print(z)\n",
    "print(\"z is of type:\",type(z))\n",
    "IN above example z is alrady convereted into float because float have high priority\n",
    "\n",
    "Explicit Type Conversion:-In this type of conversion we convert by typecasting.\n",
    "\n",
    "ex:- a=10\n",
    "if we want convert a into float then:\n",
    "float(a)\n",
    "\n",
    "\n",
    "\n",
    "\n"
   ]
  },
  {
   "cell_type": "markdown",
   "id": "ded197da-fb72-4c11-a5c5-936fa0a6760e",
   "metadata": {},
   "source": [
    "4:-open a command line and type the word python followed by the path to your script file like this: python first_script.py Hello World! Then you hit the ENTER"
   ]
  },
  {
   "cell_type": "code",
   "execution_count": 2,
   "id": "77fef90f-4e8e-41f6-8e14-cb640fefb29e",
   "metadata": {},
   "outputs": [],
   "source": [
    "#5:-\n",
    "my_list=[1,2,3,4,5]\n"
   ]
  },
  {
   "cell_type": "code",
   "execution_count": 3,
   "id": "20440459-4410-43f6-81a6-f2d0dbe37f66",
   "metadata": {},
   "outputs": [
    {
     "name": "stdout",
     "output_type": "stream",
     "text": [
      "[2, 3]\n"
     ]
    }
   ],
   "source": [
    "print(my_list[1:3:1])"
   ]
  },
  {
   "cell_type": "markdown",
   "id": "e9e43687-6d00-46d5-9812-33a9fab529ab",
   "metadata": {},
   "source": [
    "6:-complex number are those which contain both real number and imaginary number\n",
    "in python we represent by:-\n",
    "ex:-4+6j"
   ]
  },
  {
   "cell_type": "markdown",
   "id": "901b4650-fe08-4e21-82c8-cb36dfb44361",
   "metadata": {},
   "source": [
    "7:- age=25"
   ]
  },
  {
   "cell_type": "markdown",
   "id": "2ae336d4-2fd5-4ff0-b7ae-20fb858e8f55",
   "metadata": {},
   "source": [
    "8:-  price=9.99 \n",
    "   it belong to float datatype."
   ]
  },
  {
   "cell_type": "code",
   "execution_count": 6,
   "id": "e2d2ffe2-0935-4120-b8c3-1a16e06b68e6",
   "metadata": {},
   "outputs": [],
   "source": [
    "#9:-\n",
    "name=\"kushagra pandey\""
   ]
  },
  {
   "cell_type": "code",
   "execution_count": 7,
   "id": "30644c0a-38c7-434f-b423-eb703d919a34",
   "metadata": {},
   "outputs": [
    {
     "name": "stdout",
     "output_type": "stream",
     "text": [
      "kushagra pandey\n"
     ]
    }
   ],
   "source": [
    "print(name)"
   ]
  },
  {
   "cell_type": "code",
   "execution_count": 8,
   "id": "1a199784-92fe-4767-943b-5d51d988023c",
   "metadata": {},
   "outputs": [],
   "source": [
    "#10:-\n",
    "string=\"Hello, World!\"\n"
   ]
  },
  {
   "cell_type": "code",
   "execution_count": 10,
   "id": "dd8e8bc4-b590-4443-a57b-64494aca6a48",
   "metadata": {},
   "outputs": [
    {
     "name": "stdout",
     "output_type": "stream",
     "text": [
      "World\n"
     ]
    }
   ],
   "source": [
    "print(string[7:12:1])"
   ]
  },
  {
   "cell_type": "code",
   "execution_count": 12,
   "id": "38ca9c2f-112e-4775-80b7-de4403bf21e9",
   "metadata": {},
   "outputs": [],
   "source": [
    "is_student=True"
   ]
  },
  {
   "cell_type": "code",
   "execution_count": 13,
   "id": "2699b951-4343-4aeb-806d-b276de4e59d4",
   "metadata": {},
   "outputs": [
    {
     "name": "stdout",
     "output_type": "stream",
     "text": [
      "True\n"
     ]
    }
   ],
   "source": [
    "print(is_student)"
   ]
  },
  {
   "cell_type": "code",
   "execution_count": null,
   "id": "3b8d936f-1744-444a-a031-70b42a20297a",
   "metadata": {},
   "outputs": [],
   "source": []
  }
 ],
 "metadata": {
  "kernelspec": {
   "display_name": "Python 3 (ipykernel)",
   "language": "python",
   "name": "python3"
  },
  "language_info": {
   "codemirror_mode": {
    "name": "ipython",
    "version": 3
   },
   "file_extension": ".py",
   "mimetype": "text/x-python",
   "name": "python",
   "nbconvert_exporter": "python",
   "pygments_lexer": "ipython3",
   "version": "3.10.8"
  }
 },
 "nbformat": 4,
 "nbformat_minor": 5
}
